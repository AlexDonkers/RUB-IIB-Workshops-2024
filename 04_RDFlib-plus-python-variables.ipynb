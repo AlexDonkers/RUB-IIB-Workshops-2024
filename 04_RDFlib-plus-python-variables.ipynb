{
  "nbformat": 4,
  "nbformat_minor": 0,
  "metadata": {
    "colab": {
      "provenance": [],
      "authorship_tag": "ABX9TyPZGzI9ouqYev2aO2sx1SGJ",
      "include_colab_link": true
    },
    "kernelspec": {
      "name": "python3",
      "display_name": "Python 3"
    },
    "language_info": {
      "name": "python"
    }
  },
  "cells": [
    {
      "cell_type": "markdown",
      "metadata": {
        "id": "view-in-github",
        "colab_type": "text"
      },
      "source": [
        "<a href=\"https://colab.research.google.com/github/AlexDonkers/RUB-IIB-Workshops-2024/blob/main/04_RDFlib-plus-python-variables.ipynb\" target=\"_parent\"><img src=\"https://colab.research.google.com/assets/colab-badge.svg\" alt=\"Open In Colab\"/></a>"
      ]
    },
    {
      "cell_type": "markdown",
      "source": [
        "#04 RDFlib + python variables\n",
        "\n",
        "\n",
        "\n"
      ],
      "metadata": {
        "id": "_5sBKMr_VIqW"
      }
    },
    {
      "cell_type": "markdown",
      "source": [
        "In this fourth notebook, we're going to use python variables in our queries.\n"
      ],
      "metadata": {
        "id": "qUgRrIFliAoH"
      }
    },
    {
      "cell_type": "markdown",
      "source": [
        "We first import the `rdflib` python library\n"
      ],
      "metadata": {
        "id": "sWKzyjDcif__"
      }
    },
    {
      "cell_type": "code",
      "execution_count": null,
      "metadata": {
        "colab": {
          "base_uri": "https://localhost:8080/"
        },
        "id": "6RTC8dSFhwyG",
        "outputId": "36b0f7e3-c119-4271-e4c0-069d82a248fc"
      },
      "outputs": [
        {
          "output_type": "stream",
          "name": "stdout",
          "text": [
            "Collecting rdflib\n",
            "  Downloading rdflib-7.0.0-py3-none-any.whl (531 kB)\n",
            "\u001b[2K     \u001b[90m━━━━━━━━━━━━━━━━━━━━━━━━━━━━━━━━━━━━━━━━\u001b[0m \u001b[32m531.9/531.9 kB\u001b[0m \u001b[31m4.5 MB/s\u001b[0m eta \u001b[36m0:00:00\u001b[0m\n",
            "\u001b[?25hCollecting isodate<0.7.0,>=0.6.0 (from rdflib)\n",
            "  Downloading isodate-0.6.1-py2.py3-none-any.whl (41 kB)\n",
            "\u001b[2K     \u001b[90m━━━━━━━━━━━━━━━━━━━━━━━━━━━━━━━━━━━━━━━━\u001b[0m \u001b[32m41.7/41.7 kB\u001b[0m \u001b[31m3.1 MB/s\u001b[0m eta \u001b[36m0:00:00\u001b[0m\n",
            "\u001b[?25hRequirement already satisfied: pyparsing<4,>=2.1.0 in /usr/local/lib/python3.10/dist-packages (from rdflib) (3.1.2)\n",
            "Requirement already satisfied: six in /usr/local/lib/python3.10/dist-packages (from isodate<0.7.0,>=0.6.0->rdflib) (1.16.0)\n",
            "Installing collected packages: isodate, rdflib\n",
            "Successfully installed isodate-0.6.1 rdflib-7.0.0\n"
          ]
        }
      ],
      "source": [
        "!pip install rdflib"
      ]
    },
    {
      "cell_type": "code",
      "source": [
        "import rdflib"
      ],
      "metadata": {
        "id": "IIm2g7OLieVw"
      },
      "execution_count": null,
      "outputs": []
    },
    {
      "cell_type": "markdown",
      "source": [
        "We then create a graph `g` in which we could later load some RDF data"
      ],
      "metadata": {
        "id": "LPfKREg_i3lM"
      }
    },
    {
      "cell_type": "code",
      "source": [
        "from rdflib import Graph , Literal , BNode , Namespace , RDF , RDFS , OWL , URIRef\n"
      ],
      "metadata": {
        "id": "sXIg8JUSi-84"
      },
      "execution_count": null,
      "outputs": []
    },
    {
      "cell_type": "code",
      "source": [
        "g = Graph()"
      ],
      "metadata": {
        "id": "CP-xVRiRjByP"
      },
      "execution_count": null,
      "outputs": []
    },
    {
      "cell_type": "markdown",
      "source": [
        "We will now parse a graph of the RUB, found on dbpedia."
      ],
      "metadata": {
        "id": "7OJtP7Vsnl-h"
      }
    },
    {
      "cell_type": "code",
      "source": [
        "g.parse(\"https://dbpedia.org/resource/Ruhr_University_Bochum\")"
      ],
      "metadata": {
        "colab": {
          "base_uri": "https://localhost:8080/"
        },
        "id": "KEurBcVkjJ9T",
        "outputId": "ba32a05e-1e88-4264-eaef-63b86d8d345c"
      },
      "execution_count": null,
      "outputs": [
        {
          "output_type": "execute_result",
          "data": {
            "text/plain": [
              "<Graph identifier=N36da56124890410ea95f807eced92773 (<class 'rdflib.graph.Graph'>)>"
            ]
          },
          "metadata": {},
          "execution_count": 10
        }
      ]
    },
    {
      "cell_type": "markdown",
      "source": [
        "In the following part, we'll initialize some variables and impute them into the SPARQL query:\n",
        "\n"
      ],
      "metadata": {
        "id": "MEM5ewtuoG2D"
      }
    },
    {
      "cell_type": "code",
      "source": [
        "BuildingType = \"dbo:EducationalInstitution\"\n"
      ],
      "metadata": {
        "id": "KCmXUEBUWhUZ"
      },
      "execution_count": null,
      "outputs": []
    },
    {
      "cell_type": "code",
      "source": [
        "query_01 = \"\"\"PREFIX dbo: <http://dbpedia.org/ontology/>\n",
        "PREFIX dbp: <http://dbpedia.org/property/>\n",
        "\n",
        "SELECT DISTINCT ?rub\n",
        "WHERE {\n",
        "  ?rub rdf:type \"\"\"+BuildingType+\"\"\" .\n",
        "}\"\"\"\n",
        "\n",
        "qres = g.query(query_01)\n",
        "\n",
        "for row in qres:\n",
        "  print(f\"{row.rub}\")"
      ],
      "metadata": {
        "id": "oeuTnL7KoO9Y",
        "outputId": "3a3ae1be-9254-47b5-ba43-47ce66d51c8c",
        "colab": {
          "base_uri": "https://localhost:8080/"
        }
      },
      "execution_count": null,
      "outputs": [
        {
          "output_type": "stream",
          "name": "stdout",
          "text": [
            "http://dbpedia.org/resource/Ruhr_University_Bochum\n"
          ]
        }
      ]
    },
    {
      "cell_type": "markdown",
      "source": [
        "We can also use this principle the other way around, and use the output of the query as new variables:"
      ],
      "metadata": {
        "id": "d8RYb9iDXvJc"
      }
    },
    {
      "cell_type": "code",
      "source": [
        "query_02 = \"\"\"PREFIX dbo: <http://dbpedia.org/ontology/>\n",
        "PREFIX dbp: <http://dbpedia.org/property/>\n",
        "\n",
        "SELECT DISTINCT ?rub\n",
        "WHERE {\n",
        "  ?rub rdf:type dbo:EducationalInstitution .\n",
        "}\"\"\"\n",
        "\n",
        "qres = g.query(query_02)\n",
        "\n",
        "for row in qres:\n",
        "    RUB = f\"{row.rub}\"\n",
        "    print(RUB)\n",
        "\n"
      ],
      "metadata": {
        "id": "kqV1cYG1pRRm",
        "outputId": "4af566f7-08c0-4fef-ee9d-3972f6832485",
        "colab": {
          "base_uri": "https://localhost:8080/"
        }
      },
      "execution_count": null,
      "outputs": [
        {
          "output_type": "stream",
          "name": "stdout",
          "text": [
            "http://dbpedia.org/resource/Ruhr_University_Bochum\n",
            "http://dbpedia.org/resource/Ruhr_University_Bochum is cool\n"
          ]
        }
      ]
    },
    {
      "cell_type": "code",
      "source": [
        "query_03 = \"\"\"PREFIX dbo: <http://dbpedia.org/ontology/>\n",
        "PREFIX dbp: <http://dbpedia.org/property/>\n",
        "\n",
        "SELECT DISTINCT ?description\n",
        "WHERE {\n",
        "  <\"\"\"+RUB+\"\"\"> dbo:abstract ?description .\n",
        "\n",
        "  FILTER(langMatches(lang(?description),\"en\"))\n",
        "}\"\"\"\n",
        "\n",
        "qres = g.query(query_03)\n",
        "\n",
        "for row in qres:\n",
        "  print(f\"{row.description}\")\n"
      ],
      "metadata": {
        "colab": {
          "base_uri": "https://localhost:8080/"
        },
        "id": "x-I_eIVPX4z-",
        "outputId": "e45bc148-21ac-4f7b-cf01-d38694b3abd7"
      },
      "execution_count": null,
      "outputs": [
        {
          "output_type": "stream",
          "name": "stdout",
          "text": [
            "The Ruhr University Bochum (German: Ruhr-Universität Bochum, RUB) is a public research university located in the southern hills of the central Ruhr area, Bochum, Germany. It was founded in 1962 as the first new public university in Germany after World War II. Instruction began in 1965. The Ruhr-University Bochum is one of the largest universities in Germany and part of the Deutsche Forschungsgemeinschaft, the most important German research funding organization. The RUB was very successful in the Excellence Initiative of the German Federal and State Governments (2007), a competition between Germany's most prestigious universities. It was one of the few institutions left competing for the title of an \"elite university\", but did not succeed in the last round of the competition. There are currently nine universities in Germany that hold this title. The University of Bochum was one of the first universities in Germany to introduce international bachelor's and master's degrees, which replaced the traditional German Diplom and Magister. Except for a few special cases, such as law, these degrees are offered by all faculties of the Ruhr-University. Currently, the university offers a total of 184 different study programs from all academic fields represented at the university.\n"
          ]
        }
      ]
    }
  ]
}