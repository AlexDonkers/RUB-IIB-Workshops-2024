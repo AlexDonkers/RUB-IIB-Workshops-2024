{
  "nbformat": 4,
  "nbformat_minor": 0,
  "metadata": {
    "colab": {
      "provenance": [],
      "authorship_tag": "ABX9TyMDqI5JBQ++ybaQagPn0F0J",
      "include_colab_link": true
    },
    "kernelspec": {
      "name": "python3",
      "display_name": "Python 3"
    },
    "language_info": {
      "name": "python"
    }
  },
  "cells": [
    {
      "cell_type": "markdown",
      "metadata": {
        "id": "view-in-github",
        "colab_type": "text"
      },
      "source": [
        "<a href=\"https://colab.research.google.com/github/AlexDonkers/RUB-IIB-Workshops-2024/blob/main/05_Retrieving-IoT-data-streams-via-MQTT.ipynb\" target=\"_parent\"><img src=\"https://colab.research.google.com/assets/colab-badge.svg\" alt=\"Open In Colab\"/></a>"
      ]
    },
    {
      "cell_type": "markdown",
      "source": [
        "# 05 Retrieving IoT data streams via MQTT"
      ],
      "metadata": {
        "id": "7AzVLJNq5m7I"
      }
    },
    {
      "cell_type": "markdown",
      "source": [
        "This fifth jupyter notebook is a simple example of how you can subscribe to an IoT data stream via MQTT.  \n",
        "\n",
        "In order to retrieve some data, first go to\n",
        "https://www.hivemq.com/demos/websocket-client/, connect with:\n",
        "\n",
        "*  Host: **broker.hivemq.com**\n",
        "*  Port: **8884**\n"
      ],
      "metadata": {
        "id": "0ACJ6R0h58L5"
      }
    },
    {
      "cell_type": "code",
      "execution_count": null,
      "metadata": {
        "id": "r-LLfHMr2k9W"
      },
      "outputs": [],
      "source": [
        "pip install paho-mqtt\n"
      ]
    },
    {
      "cell_type": "code",
      "source": [
        "import paho.mqtt.client as paho\n",
        "import time, datetime"
      ],
      "metadata": {
        "id": "Cl75RCX42x30"
      },
      "execution_count": null,
      "outputs": []
    },
    {
      "cell_type": "markdown",
      "source": [
        "We now initialize some parameters, which are the broker address ('Host' in the HiveMQ websocket), port, user, and password."
      ],
      "metadata": {
        "id": "SMQqs2Dm7OJM"
      }
    },
    {
      "cell_type": "code",
      "source": [
        "broker_address=\"broker.hivemq.com\"\n",
        "port = 8884\n",
        "user = \"AlexDonkers\"\n",
        "password = \"password\""
      ],
      "metadata": {
        "id": "RMlMOUb33nBM"
      },
      "execution_count": null,
      "outputs": []
    },
    {
      "cell_type": "code",
      "source": [
        "def on_log(client, userdata, level, buf):\n",
        " print( str(datetime.datetime.now()) + \": \",buf)\n",
        "\n",
        "def on_message(client, userdata, message):\n",
        " print (\"Client received: \" + str(message.topic))\n",
        " print (\"Message received: \" + str(message.payload))\n",
        "\n",
        "def on_connect(client, userdata, flags, rc):\n",
        " if rc == 0:\n",
        "  print(\"Connected to broker\")\n",
        "  global Connected\n",
        "  Connected = True\n",
        " else:\n",
        "  print(\"Connection failed\")\n"
      ],
      "metadata": {
        "id": "CpIJVpEV3Cd1"
      },
      "execution_count": null,
      "outputs": []
    },
    {
      "cell_type": "code",
      "source": [
        "client = paho.Client()\n",
        "client.on_connect = on_connect\n",
        "client.on_message = on_message\n",
        "client.on_log = on_log\n",
        "client.username_pw_set(user, password=password)\n",
        "client.connect(broker_address, port=port)"
      ],
      "metadata": {
        "colab": {
          "base_uri": "https://localhost:8080/"
        },
        "id": "1Cdkdakk34Js",
        "outputId": "b174537c-24eb-42fc-93d4-862357ff12c5"
      },
      "execution_count": null,
      "outputs": [
        {
          "output_type": "stream",
          "name": "stdout",
          "text": [
            "2024-06-23 16:21:29.419028:  Sending CONNECT (u1, p1, wr0, wq0, wf0, c1, k60) client_id=b''\n"
          ]
        },
        {
          "output_type": "stream",
          "name": "stderr",
          "text": [
            "<ipython-input-5-bf109de98b47>:1: DeprecationWarning: Callback API version 1 is deprecated, update to latest version\n",
            "  client = paho.Client() #create new instance\n"
          ]
        },
        {
          "output_type": "execute_result",
          "data": {
            "text/plain": [
              "<MQTTErrorCode.MQTT_ERR_SUCCESS: 0>"
            ]
          },
          "metadata": {},
          "execution_count": 5
        }
      ]
    },
    {
      "cell_type": "code",
      "source": [
        "client.loop_start()"
      ],
      "metadata": {
        "colab": {
          "base_uri": "https://localhost:8080/"
        },
        "id": "kak0SW1Y3Z7E",
        "outputId": "3d953285-4c33-4bb5-fb7f-c6485939dfcc"
      },
      "execution_count": null,
      "outputs": [
        {
          "output_type": "execute_result",
          "data": {
            "text/plain": [
              "<MQTTErrorCode.MQTT_ERR_SUCCESS: 0>"
            ]
          },
          "metadata": {},
          "execution_count": 9
        }
      ]
    },
    {
      "cell_type": "markdown",
      "source": [
        "Below, you'll find the client.subscribe function, which is where you'll indicate the topic you would like to subscribe to. Using a hash after the slash instead of specifying a subtopic will retrieve all messages in all subtopics, so if there are three subtopics:\n",
        "\n",
        "1.   rub-iib-sensors/IC/E6/temperature\n",
        "2.   rub-iib-sensors/IC/E6/relativeHumidity\n",
        "3.   rub-iib-sensors/IC/E6/illuminance\n",
        "\n",
        "Then one can either subscribe to the temperature topic only using `client.subscribe(\"rub-iib-sensors/IC/E6/temperature\")`, or to all topics in E6 simultaneously using `client.subscribe(\"rub-iib-sensors/IC/E6/#\")`\n",
        "\n",
        "\n"
      ],
      "metadata": {
        "id": "ujN56rgF7d75"
      }
    },
    {
      "cell_type": "code",
      "source": [
        "while Connected != True:\n",
        " time.sleep(0.1)\n",
        "client.subscribe(\"rub-iib-sensors/IC/E6/#\")\n",
        "client.subscribe(\"rub-iib-sensors/IC/E6/temperature\")\n",
        "\n",
        "try:\n",
        " while True:\n",
        "  time.sleep(1)\n",
        "except KeyboardInterrupt:\n",
        " client.disconnect()\n",
        " client.loop_stop()\n"
      ],
      "metadata": {
        "id": "DFW5cblw4G7y"
      },
      "execution_count": null,
      "outputs": []
    },
    {
      "cell_type": "code",
      "source": [],
      "metadata": {
        "id": "dzlOOyXS4rCY"
      },
      "execution_count": null,
      "outputs": []
    }
  ]
}