{
  "nbformat": 4,
  "nbformat_minor": 0,
  "metadata": {
    "colab": {
      "provenance": [],
      "authorship_tag": "ABX9TyO9MNfg03v68doHB/iFyqCQ",
      "include_colab_link": true
    },
    "kernelspec": {
      "name": "python3",
      "display_name": "Python 3"
    },
    "language_info": {
      "name": "python"
    }
  },
  "cells": [
    {
      "cell_type": "markdown",
      "metadata": {
        "id": "view-in-github",
        "colab_type": "text"
      },
      "source": [
        "<a href=\"https://colab.research.google.com/github/AlexDonkers/RUB-IIB-Workshops-2024/blob/main/06_Publishing-data-to-an-MQTT-topic.ipynb\" target=\"_parent\"><img src=\"https://colab.research.google.com/assets/colab-badge.svg\" alt=\"Open In Colab\"/></a>"
      ]
    },
    {
      "cell_type": "markdown",
      "source": [
        "#06 Publishing data to an MQTT topic"
      ],
      "metadata": {
        "id": "1tcuknu-8CFs"
      }
    },
    {
      "cell_type": "markdown",
      "source": [
        "This sixth notebook is a simple example of how you can publish data to an MQTT topic."
      ],
      "metadata": {
        "id": "QW_de9aH8JQ3"
      }
    },
    {
      "cell_type": "code",
      "execution_count": 1,
      "metadata": {
        "id": "r-LLfHMr2k9W",
        "colab": {
          "base_uri": "https://localhost:8080/"
        },
        "outputId": "010b4dbe-f7ab-4100-f2f5-f64ed07e7f89"
      },
      "outputs": [
        {
          "output_type": "stream",
          "name": "stdout",
          "text": [
            "Collecting paho-mqtt\n",
            "  Downloading paho_mqtt-2.1.0-py3-none-any.whl (67 kB)\n",
            "\u001b[?25l     \u001b[90m━━━━━━━━━━━━━━━━━━━━━━━━━━━━━━━━━━━━━━━━\u001b[0m \u001b[32m0.0/67.2 kB\u001b[0m \u001b[31m?\u001b[0m eta \u001b[36m-:--:--\u001b[0m\r\u001b[2K     \u001b[90m━━━━━━━━━━━━━━━━━━━━━━━━━━━━━━━━━━━━━━━━\u001b[0m \u001b[32m67.2/67.2 kB\u001b[0m \u001b[31m1.9 MB/s\u001b[0m eta \u001b[36m0:00:00\u001b[0m\n",
            "\u001b[?25hInstalling collected packages: paho-mqtt\n",
            "Successfully installed paho-mqtt-2.1.0\n"
          ]
        }
      ],
      "source": [
        "pip install paho-mqtt\n"
      ]
    },
    {
      "cell_type": "code",
      "source": [
        "import paho.mqtt.client as paho\n",
        "import time, datetime"
      ],
      "metadata": {
        "id": "Cl75RCX42x30"
      },
      "execution_count": 3,
      "outputs": []
    },
    {
      "cell_type": "markdown",
      "source": [
        "We now initialize some parameters, which are the broker address ('Host' in the HiveMQ websocket), port, user, and password."
      ],
      "metadata": {
        "id": "SMQqs2Dm7OJM"
      }
    },
    {
      "cell_type": "code",
      "source": [
        "broker_address=\"broker.hivemq.com\"\n",
        "port = 8884\n",
        "user = \"AlexDonkers\"\n",
        "password = \"password\""
      ],
      "metadata": {
        "id": "RMlMOUb33nBM"
      },
      "execution_count": 31,
      "outputs": []
    },
    {
      "cell_type": "code",
      "source": [
        "def on_log(client, userdata, level, buf):\n",
        " print( str(datetime.datetime.now()) + \": \",buf)\n",
        "\n",
        "def on_message(client, userdata, message):\n",
        " print (\"Client received: \" + str(message.topic))\n",
        " print (\"Message received: \" + str(message.payload))\n",
        "\n",
        "def on_connect(client, userdata, flags, rc):\n",
        " if rc == 0:\n",
        "  print(\"Connected to broker\")\n",
        "  global Connected\n",
        "  Connected = True\n",
        " else:\n",
        "  print(\"Connection failed\")\n"
      ],
      "metadata": {
        "id": "CpIJVpEV3Cd1"
      },
      "execution_count": 5,
      "outputs": []
    },
    {
      "cell_type": "code",
      "source": [
        "client = paho.Client()"
      ],
      "metadata": {
        "colab": {
          "base_uri": "https://localhost:8080/"
        },
        "id": "1Cdkdakk34Js",
        "outputId": "ddbae596-3da8-46a4-b08a-101cfc9db235"
      },
      "execution_count": 32,
      "outputs": [
        {
          "output_type": "stream",
          "name": "stderr",
          "text": [
            "<ipython-input-32-b63f8b031146>:1: DeprecationWarning: Callback API version 1 is deprecated, update to latest version\n",
            "  client = paho.Client()\n"
          ]
        }
      ]
    },
    {
      "cell_type": "markdown",
      "source": [
        "We'll finally publish some data. Below, we publish the payload 21 to the `rub-iib-sensors/IC/E6/temperature` topic."
      ],
      "metadata": {
        "id": "JQK19NHK8Ri7"
      }
    },
    {
      "cell_type": "code",
      "source": [
        "client.publish(\"rub-iib-sensors/IC/E6/temperature\", payload=\"21\", qos=2)"
      ],
      "metadata": {
        "colab": {
          "base_uri": "https://localhost:8080/"
        },
        "id": "Dabo6Wlv6jFP",
        "outputId": "0102423f-d640-4815-aef9-fffd03f575eb"
      },
      "execution_count": 38,
      "outputs": [
        {
          "output_type": "execute_result",
          "data": {
            "text/plain": [
              "<paho.mqtt.client.MQTTMessageInfo at 0x7b594bdb92b0>"
            ]
          },
          "metadata": {},
          "execution_count": 38
        }
      ]
    },
    {
      "cell_type": "markdown",
      "source": [
        "Now let's create a simple temperature simulation and publish this to the `rub-iib-sensors/IC/E6/temperature` topic."
      ],
      "metadata": {
        "id": "7IJUVdnE_f7W"
      }
    },
    {
      "cell_type": "code",
      "source": [
        "from random import randint\n",
        "\n",
        "def temperatureSimulation():\n",
        "  while True:\n",
        "    temperature = randint(20, 23)\n",
        "    client.publish(\"rub-iib-sensors/IC/E6/temperature\", payload=temperature, qos=1)\n",
        "    time.sleep(3)\n",
        "\n",
        "temperatureSimulation()"
      ],
      "metadata": {
        "colab": {
          "base_uri": "https://localhost:8080/",
          "height": 305
        },
        "id": "0NqeLMSV8uDV",
        "outputId": "72c34953-ebda-45a6-ae31-0f80193409ce"
      },
      "execution_count": 37,
      "outputs": [
        {
          "output_type": "error",
          "ename": "KeyboardInterrupt",
          "evalue": "",
          "traceback": [
            "\u001b[0;31m---------------------------------------------------------------------------\u001b[0m",
            "\u001b[0;31mKeyboardInterrupt\u001b[0m                         Traceback (most recent call last)",
            "\u001b[0;32m<ipython-input-37-3e38a316545c>\u001b[0m in \u001b[0;36m<cell line: 9>\u001b[0;34m()\u001b[0m\n\u001b[1;32m      7\u001b[0m     \u001b[0mtime\u001b[0m\u001b[0;34m.\u001b[0m\u001b[0msleep\u001b[0m\u001b[0;34m(\u001b[0m\u001b[0;36m3\u001b[0m\u001b[0;34m)\u001b[0m\u001b[0;34m\u001b[0m\u001b[0;34m\u001b[0m\u001b[0m\n\u001b[1;32m      8\u001b[0m \u001b[0;34m\u001b[0m\u001b[0m\n\u001b[0;32m----> 9\u001b[0;31m \u001b[0mtemperatureSimulation\u001b[0m\u001b[0;34m(\u001b[0m\u001b[0;34m)\u001b[0m\u001b[0;34m\u001b[0m\u001b[0;34m\u001b[0m\u001b[0m\n\u001b[0m",
            "\u001b[0;32m<ipython-input-37-3e38a316545c>\u001b[0m in \u001b[0;36mtemperatureSimulation\u001b[0;34m()\u001b[0m\n\u001b[1;32m      5\u001b[0m     \u001b[0mtemperature\u001b[0m \u001b[0;34m=\u001b[0m \u001b[0mrandint\u001b[0m\u001b[0;34m(\u001b[0m\u001b[0;36m20\u001b[0m\u001b[0;34m,\u001b[0m \u001b[0;36m23\u001b[0m\u001b[0;34m)\u001b[0m\u001b[0;34m\u001b[0m\u001b[0;34m\u001b[0m\u001b[0m\n\u001b[1;32m      6\u001b[0m     \u001b[0mclient\u001b[0m\u001b[0;34m.\u001b[0m\u001b[0mpublish\u001b[0m\u001b[0;34m(\u001b[0m\u001b[0;34m\"rub-iib-sensors/IC/E6/temperature\"\u001b[0m\u001b[0;34m,\u001b[0m \u001b[0mpayload\u001b[0m\u001b[0;34m=\u001b[0m\u001b[0mtemperature\u001b[0m\u001b[0;34m,\u001b[0m \u001b[0mqos\u001b[0m\u001b[0;34m=\u001b[0m\u001b[0;36m1\u001b[0m\u001b[0;34m)\u001b[0m\u001b[0;34m\u001b[0m\u001b[0;34m\u001b[0m\u001b[0m\n\u001b[0;32m----> 7\u001b[0;31m     \u001b[0mtime\u001b[0m\u001b[0;34m.\u001b[0m\u001b[0msleep\u001b[0m\u001b[0;34m(\u001b[0m\u001b[0;36m3\u001b[0m\u001b[0;34m)\u001b[0m\u001b[0;34m\u001b[0m\u001b[0;34m\u001b[0m\u001b[0m\n\u001b[0m\u001b[1;32m      8\u001b[0m \u001b[0;34m\u001b[0m\u001b[0m\n\u001b[1;32m      9\u001b[0m \u001b[0mtemperatureSimulation\u001b[0m\u001b[0;34m(\u001b[0m\u001b[0;34m)\u001b[0m\u001b[0;34m\u001b[0m\u001b[0;34m\u001b[0m\u001b[0m\n",
            "\u001b[0;31mKeyboardInterrupt\u001b[0m: "
          ]
        }
      ]
    }
  ]
}