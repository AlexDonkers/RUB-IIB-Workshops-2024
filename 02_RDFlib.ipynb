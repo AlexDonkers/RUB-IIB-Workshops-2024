{
  "nbformat": 4,
  "nbformat_minor": 0,
  "metadata": {
    "colab": {
      "provenance": [],
      "authorship_tag": "ABX9TyNnXvyGmPY00gEePBCGE8Cg",
      "include_colab_link": true
    },
    "kernelspec": {
      "name": "python3",
      "display_name": "Python 3"
    },
    "language_info": {
      "name": "python"
    }
  },
  "cells": [
    {
      "cell_type": "markdown",
      "metadata": {
        "id": "view-in-github",
        "colab_type": "text"
      },
      "source": [
        "<a href=\"https://colab.research.google.com/github/AlexDonkers/RUB-IIB-Workshops-2024/blob/main/02_RDFlib.ipynb\" target=\"_parent\"><img src=\"https://colab.research.google.com/assets/colab-badge.svg\" alt=\"Open In Colab\"/></a>"
      ]
    },
    {
      "cell_type": "markdown",
      "source": [
        "#02 RDFlib"
      ],
      "metadata": {
        "id": "MGdF3zA8hx3b"
      }
    },
    {
      "cell_type": "markdown",
      "source": [
        "In this second notebook, we'll try to use RDFlib to explore a graph. You can use any RDF graph in this tutorial, however, I suggest we start with the [OpenFlat TTL](https://raw.githubusercontent.com/AlexDonkers/ofo/main/SWJ_Resources/OpenFlat/OpenFlat_Donkers.ttl)."
      ],
      "metadata": {
        "id": "qUgRrIFliAoH"
      }
    },
    {
      "cell_type": "markdown",
      "source": [
        "We first import the `rdflib` python library\n"
      ],
      "metadata": {
        "id": "sWKzyjDcif__"
      }
    },
    {
      "cell_type": "code",
      "execution_count": 1,
      "metadata": {
        "colab": {
          "base_uri": "https://localhost:8080/"
        },
        "id": "6RTC8dSFhwyG",
        "outputId": "36b0f7e3-c119-4271-e4c0-069d82a248fc"
      },
      "outputs": [
        {
          "output_type": "stream",
          "name": "stdout",
          "text": [
            "Collecting rdflib\n",
            "  Downloading rdflib-7.0.0-py3-none-any.whl (531 kB)\n",
            "\u001b[2K     \u001b[90m━━━━━━━━━━━━━━━━━━━━━━━━━━━━━━━━━━━━━━━━\u001b[0m \u001b[32m531.9/531.9 kB\u001b[0m \u001b[31m4.5 MB/s\u001b[0m eta \u001b[36m0:00:00\u001b[0m\n",
            "\u001b[?25hCollecting isodate<0.7.0,>=0.6.0 (from rdflib)\n",
            "  Downloading isodate-0.6.1-py2.py3-none-any.whl (41 kB)\n",
            "\u001b[2K     \u001b[90m━━━━━━━━━━━━━━━━━━━━━━━━━━━━━━━━━━━━━━━━\u001b[0m \u001b[32m41.7/41.7 kB\u001b[0m \u001b[31m3.1 MB/s\u001b[0m eta \u001b[36m0:00:00\u001b[0m\n",
            "\u001b[?25hRequirement already satisfied: pyparsing<4,>=2.1.0 in /usr/local/lib/python3.10/dist-packages (from rdflib) (3.1.2)\n",
            "Requirement already satisfied: six in /usr/local/lib/python3.10/dist-packages (from isodate<0.7.0,>=0.6.0->rdflib) (1.16.0)\n",
            "Installing collected packages: isodate, rdflib\n",
            "Successfully installed isodate-0.6.1 rdflib-7.0.0\n"
          ]
        }
      ],
      "source": [
        "!pip install rdflib"
      ]
    },
    {
      "cell_type": "code",
      "source": [
        "import rdflib"
      ],
      "metadata": {
        "id": "IIm2g7OLieVw"
      },
      "execution_count": 2,
      "outputs": []
    },
    {
      "cell_type": "markdown",
      "source": [
        "We then create a graph `g` in which we could later load some RDF data"
      ],
      "metadata": {
        "id": "LPfKREg_i3lM"
      }
    },
    {
      "cell_type": "code",
      "source": [
        "from rdflib import Graph , Literal , BNode , Namespace , RDF , RDFS , OWL , URIRef\n"
      ],
      "metadata": {
        "id": "sXIg8JUSi-84"
      },
      "execution_count": 3,
      "outputs": []
    },
    {
      "cell_type": "code",
      "source": [
        "g = Graph()"
      ],
      "metadata": {
        "id": "CP-xVRiRjByP"
      },
      "execution_count": 4,
      "outputs": []
    },
    {
      "cell_type": "markdown",
      "source": [
        "We will now parse a graph of the RUB, found on dbpedia."
      ],
      "metadata": {
        "id": "7OJtP7Vsnl-h"
      }
    },
    {
      "cell_type": "code",
      "source": [
        "g.parse(\"https://dbpedia.org/resource/Ruhr_University_Bochum\")"
      ],
      "metadata": {
        "colab": {
          "base_uri": "https://localhost:8080/"
        },
        "id": "KEurBcVkjJ9T",
        "outputId": "e7efe0a6-5df4-4f1d-c453-ca89e977e4bf"
      },
      "execution_count": 9,
      "outputs": [
        {
          "output_type": "execute_result",
          "data": {
            "text/plain": [
              "<Graph identifier=Nb9afb2af3d7d4a3d882b254e51603e56 (<class 'rdflib.graph.Graph'>)>"
            ]
          },
          "metadata": {},
          "execution_count": 9
        }
      ]
    },
    {
      "cell_type": "markdown",
      "source": [
        "The following line will print the number of statements in our graph."
      ],
      "metadata": {
        "id": "MEM5ewtuoG2D"
      }
    },
    {
      "cell_type": "code",
      "source": [
        "print(len(g))"
      ],
      "metadata": {
        "id": "-vcdyrsenmUI",
        "outputId": "8242e0e2-6568-401a-c48c-6d99ced2e606",
        "colab": {
          "base_uri": "https://localhost:8080/"
        }
      },
      "execution_count": 10,
      "outputs": [
        {
          "output_type": "stream",
          "name": "stdout",
          "text": [
            "1605\n"
          ]
        }
      ]
    },
    {
      "cell_type": "code",
      "source": [
        "query_01 = \"\"\"PREFIX dbo: <http://dbpedia.org/ontology/>\n",
        "PREFIX dbp: <http://dbpedia.org/property/>\n",
        "\n",
        "SELECT DISTINCT ?rub\n",
        "WHERE {\n",
        "  ?rub rdf:type dbo:EducationalInstitution .\n",
        "}\"\"\"\n",
        "\n",
        "qres = g.query(query_01)\n",
        "\n",
        "for row in qres:\n",
        "  print(f\"{row.rub}\")"
      ],
      "metadata": {
        "id": "oeuTnL7KoO9Y",
        "outputId": "77a322b1-ca5a-4097-9ac3-0efea8bd370d",
        "colab": {
          "base_uri": "https://localhost:8080/"
        }
      },
      "execution_count": 13,
      "outputs": [
        {
          "output_type": "stream",
          "name": "stdout",
          "text": [
            "http://dbpedia.org/resource/Ruhr_University_Bochum\n"
          ]
        }
      ]
    },
    {
      "cell_type": "code",
      "source": [
        "query_02 = \"\"\"PREFIX dbo: <http://dbpedia.org/ontology/>\n",
        "PREFIX dbp: <http://dbpedia.org/property/>\n",
        "\n",
        "SELECT DISTINCT ?rub ?color ?state\n",
        "WHERE {\n",
        "  ?rub rdf:type dbo:EducationalInstitution .\n",
        "  ?rub dbo:officialSchoolColour ?color .\n",
        "  ?rub dbo:state ?state .\n",
        "}\"\"\"\n",
        "\n",
        "qres = g.query(query_02)\n",
        "\n",
        "for row in qres:\n",
        "  print(f\"{row.rub}\")\n",
        "  print(f\"{row.color}\")\n",
        "  print(f\"{row.state}\")"
      ],
      "metadata": {
        "id": "kqV1cYG1pRRm",
        "outputId": "671d1285-6ef8-434c-9254-d73516d9c8b3",
        "colab": {
          "base_uri": "https://localhost:8080/"
        }
      },
      "execution_count": 36,
      "outputs": [
        {
          "output_type": "stream",
          "name": "stdout",
          "text": [
            "http://dbpedia.org/resource/Ruhr_University_Bochum\n",
            "\n",
            "http://dbpedia.org/resource/North_Rhine-Westphalia\n",
            "http://dbpedia.org/resource/Ruhr_University_Bochum\n",
            "RUB-Blau, RUB-Grün\n",
            "http://dbpedia.org/resource/North_Rhine-Westphalia\n"
          ]
        }
      ]
    }
  ]
}