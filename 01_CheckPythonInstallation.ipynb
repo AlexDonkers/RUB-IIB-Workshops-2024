{
  "nbformat": 4,
  "nbformat_minor": 0,
  "metadata": {
    "colab": {
      "provenance": [],
      "authorship_tag": "ABX9TyOQgOTHk2niO7XZdu425ZZZ",
      "include_colab_link": true
    },
    "kernelspec": {
      "name": "python3",
      "display_name": "Python 3"
    },
    "language_info": {
      "name": "python"
    }
  },
  "cells": [
    {
      "cell_type": "markdown",
      "metadata": {
        "id": "view-in-github",
        "colab_type": "text"
      },
      "source": [
        "<a href=\"https://colab.research.google.com/github/AlexDonkers/RUB-IIB-Workshops-2024/blob/main/01_CheckPythonInstallation.ipynb\" target=\"_parent\"><img src=\"https://colab.research.google.com/assets/colab-badge.svg\" alt=\"Open In Colab\"/></a>"
      ]
    },
    {
      "cell_type": "markdown",
      "source": [
        "\n",
        "# 01 Check Python installation"
      ],
      "metadata": {
        "id": "e7DwFv2CfRJe"
      }
    },
    {
      "cell_type": "markdown",
      "source": [
        "This introductory notebook will guide you through a small check up of your local `python` installation.\n"
      ],
      "metadata": {
        "id": "082s2OHmfdPF"
      }
    },
    {
      "cell_type": "code",
      "execution_count": 1,
      "metadata": {
        "colab": {
          "base_uri": "https://localhost:8080/"
        },
        "id": "oAO-P_QVfPRg",
        "outputId": "75ebceb7-971e-4566-b135-0a25ac1fa9cf"
      },
      "outputs": [
        {
          "output_type": "stream",
          "name": "stdout",
          "text": [
            "You are using python version: 3.10.12 (main, Nov 20 2023, 15:14:05) [GCC 11.4.0]\n"
          ]
        }
      ],
      "source": [
        "import sys\n",
        "print( \"You are using python version: \" + sys.version)"
      ]
    }
  ]
}